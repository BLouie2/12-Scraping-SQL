{
 "cells": [
  {
   "cell_type": "markdown",
   "metadata": {},
   "source": [
    "# Six Degrees of Kevin Bacon\n",
    "\n",
    "![](images/Kevin_Bacon.jpg)\n",
    "\n",
    "This activity is motivated by the text **Web Scraping with Python** by Ryan Mitchell, available through O'Reilly [here](http://shop.oreilly.com/product/0636920078067.do).  This book goes in depth with much more on using different libraries with Python around common webscraping tasks and I highly recommend it.  We will focus on the activity of moving from a base page to further pages through their links.  "
   ]
  },
  {
   "cell_type": "code",
   "execution_count": 1,
   "metadata": {},
   "outputs": [],
   "source": [
    "import requests\n",
    "from bs4 import BeautifulSoup\n",
    "\n",
    "#request makes the request to the website and receives that response\n",
    "#beautiful soup helps navigate the responses"
   ]
  },
  {
   "cell_type": "markdown",
   "metadata": {},
   "source": [
    "### Scraping Links\n",
    "\n",
    "Below, we take the page dealing with the six degrees of Keving Bacon problem.  Here, our goal is to extract links to other pages that we will subsequently pass to requests.  Recall that a link is located in an `<a>` tag and the link is contained in the `href` attribute.  For example, the tag\n",
    "\n",
    "```HTML\n",
    "<a href=\"/wiki/Six_degrees_of_separation\" title=\"Six degrees of separation\">six degrees of separation</a>\n",
    "```\n",
    "\n",
    "references the Six Degrees of Separation article.  Note that this is a url within Wikipedia.  We can isolate these inner Wikipedia references.  To begin, let's inspect the link content."
   ]
  },
  {
   "cell_type": "code",
   "execution_count": 2,
   "metadata": {},
   "outputs": [],
   "source": [
    "response = requests.get('https://en.wikipedia.org/wiki/Six_Degrees_of_Kevin_Bacon')"
   ]
  },
  {
   "cell_type": "code",
   "execution_count": 3,
   "metadata": {},
   "outputs": [],
   "source": [
    "soup = BeautifulSoup(response.text, 'html.parser')"
   ]
  },
  {
   "cell_type": "code",
   "execution_count": 4,
   "metadata": {
    "scrolled": true
   },
   "outputs": [
    {
     "data": {
      "text/plain": [
       "<a id=\"top\"></a>"
      ]
     },
     "execution_count": 4,
     "metadata": {},
     "output_type": "execute_result"
    }
   ],
   "source": [
    "soup.find('a')"
   ]
  },
  {
   "cell_type": "code",
   "execution_count": 6,
   "metadata": {
    "scrolled": true
   },
   "outputs": [
    {
     "data": {
      "text/plain": [
       "[<a id=\"top\"></a>,\n",
       " <a class=\"mw-jump-link\" href=\"#mw-head\">Jump to navigation</a>,\n",
       " <a class=\"mw-jump-link\" href=\"#p-search\">Jump to search</a>,\n",
       " <a class=\"image\" href=\"/wiki/File:Kevin_Bacon.jpg\"><img alt=\"\" class=\"thumbimage\" data-file-height=\"461\" data-file-width=\"369\" height=\"275\" src=\"//upload.wikimedia.org/wikipedia/commons/thumb/d/d2/Kevin_Bacon.jpg/220px-Kevin_Bacon.jpg\" srcset=\"//upload.wikimedia.org/wikipedia/commons/thumb/d/d2/Kevin_Bacon.jpg/330px-Kevin_Bacon.jpg 1.5x, //upload.wikimedia.org/wikipedia/commons/d/d2/Kevin_Bacon.jpg 2x\" width=\"220\"/></a>,\n",
       " <a class=\"internal\" href=\"/wiki/File:Kevin_Bacon.jpg\" title=\"Enlarge\"></a>,\n",
       " <a class=\"mw-redirect\" href=\"/wiki/Parlor_game\" title=\"Parlor game\">parlor game</a>,\n",
       " <a href=\"/wiki/Six_degrees_of_separation\" title=\"Six degrees of separation\">six degrees of separation</a>,\n",
       " <a href=\"/wiki/Kevin_Bacon\" title=\"Kevin Bacon\">Kevin Bacon</a>,\n",
       " <a href=\"/wiki/Hollywood\" title=\"Hollywood\">Hollywood</a>,\n",
       " <a href=\"/wiki/Kevin_Bacon\" title=\"Kevin Bacon\">Bacon</a>]"
      ]
     },
     "execution_count": 6,
     "metadata": {},
     "output_type": "execute_result"
    }
   ],
   "source": [
    "soup.find_all('a')[:10]\n",
    "\n",
    "#list of tags\n",
    "#each has attributes"
   ]
  },
  {
   "cell_type": "code",
   "execution_count": 7,
   "metadata": {},
   "outputs": [
    {
     "name": "stdout",
     "output_type": "stream",
     "text": [
      "{'id': 'top'}\n",
      "{'class': ['mw-jump-link'], 'href': '#mw-head'}\n",
      "{'class': ['mw-jump-link'], 'href': '#p-search'}\n",
      "{'href': '/wiki/File:Kevin_Bacon.jpg', 'class': ['image']}\n",
      "{'href': '/wiki/File:Kevin_Bacon.jpg', 'class': ['internal'], 'title': 'Enlarge'}\n",
      "{'href': '/wiki/Parlor_game', 'class': ['mw-redirect'], 'title': 'Parlor game'}\n",
      "{'href': '/wiki/Six_degrees_of_separation', 'title': 'Six degrees of separation'}\n",
      "{'href': '/wiki/Kevin_Bacon', 'title': 'Kevin Bacon'}\n",
      "{'href': '/wiki/Hollywood', 'title': 'Hollywood'}\n",
      "{'href': '/wiki/Kevin_Bacon', 'title': 'Kevin Bacon'}\n"
     ]
    }
   ],
   "source": [
    "for link in soup.find_all('a')[:10]:\n",
    "    print(link.attrs)"
   ]
  },
  {
   "cell_type": "code",
   "execution_count": 9,
   "metadata": {},
   "outputs": [
    {
     "name": "stdout",
     "output_type": "stream",
     "text": [
      "#mw-head\n",
      "#p-search\n",
      "/wiki/File:Kevin_Bacon.jpg\n",
      "/wiki/File:Kevin_Bacon.jpg\n",
      "/wiki/Parlor_game\n",
      "/wiki/Six_degrees_of_separation\n",
      "/wiki/Kevin_Bacon\n",
      "/wiki/Hollywood\n",
      "/wiki/Kevin_Bacon\n",
      "/wiki/Kevin_Bacon\n",
      "/wiki/Charitable_organization\n",
      "/wiki/SixDegrees.org\n",
      "#History\n",
      "#Bacon_numbers\n"
     ]
    }
   ],
   "source": [
    "for link in soup.find_all('a')[:15]:\n",
    "    if 'href' in link.attrs:\n",
    "        print(link.attrs['href'])\n",
    "\n",
    "#navigation of tags and use attributes to filter\n",
    "#the \".\" identifies a file"
   ]
  },
  {
   "cell_type": "markdown",
   "metadata": {},
   "source": [
    "Okay, seems there are links outside of the inner wiki links.  However, we see that the wiki links contain `/wiki/`, no colons, and the links are all within the body of the page.  Exploiting these means we can write a regular expression \n",
    "\n",
    "```\n",
    "^(/wiki/)((?!:).)*$\n",
    "```\n",
    "\n",
    "that will match only the wiki links.  "
   ]
  },
  {
   "cell_type": "code",
   "execution_count": 10,
   "metadata": {},
   "outputs": [],
   "source": [
    "import re"
   ]
  },
  {
   "cell_type": "code",
   "execution_count": 11,
   "metadata": {},
   "outputs": [
    {
     "name": "stdout",
     "output_type": "stream",
     "text": [
      "/wiki/Parlor_game\n",
      "/wiki/Six_degrees_of_separation\n",
      "/wiki/Kevin_Bacon\n",
      "/wiki/Hollywood\n",
      "/wiki/Kevin_Bacon\n",
      "/wiki/Kevin_Bacon\n",
      "/wiki/Charitable_organization\n",
      "/wiki/SixDegrees.org\n",
      "/wiki/Premiere_(magazine)\n",
      "/wiki/Kevin_Bacon\n"
     ]
    }
   ],
   "source": [
    "for link in soup.find('div', {'id': 'bodyContent'}).find_all('a', href = re.compile('^(/wiki/)((?!:).)*$'))[:10]:\n",
    "    if 'href' in link.attrs:\n",
    "        print(link.attrs['href'])\n",
    "        \n",
    "#grabbing div tags w/ bodycontent as a part of it\n",
    "#^(/wiki/)((?!:).)*$ is a regular expression"
   ]
  },
  {
   "cell_type": "markdown",
   "metadata": {},
   "source": [
    "### A Function for Links\n",
    "\n",
    "Now, let's write a function that extracts the link from any wikipedia page.  We should be able to use the idea that the links we care about are located in the same place as our Six Degrees example.  "
   ]
  },
  {
   "cell_type": "code",
   "execution_count": 12,
   "metadata": {},
   "outputs": [],
   "source": [
    "def get_wikilinks(url):\n",
    "    links = []\n",
    "    response = requests.get(url)\n",
    "    soup = BeautifulSoup(response.text, 'html.parser')\n",
    "    for link in soup.find('div', {'id': 'bodyContent'}).find_all('a', href = re.compile('^(/wiki/)((?!:).)*$')):\n",
    "        links.append(link)\n",
    "    return links"
   ]
  },
  {
   "cell_type": "code",
   "execution_count": 13,
   "metadata": {},
   "outputs": [],
   "source": [
    "links = get_wikilinks('https://en.wikipedia.org/wiki/Kevin_Bacon')"
   ]
  },
  {
   "cell_type": "code",
   "execution_count": 14,
   "metadata": {},
   "outputs": [
    {
     "data": {
      "text/plain": [
       "[<a class=\"mw-disambig\" href=\"/wiki/Kevin_Bacon_(disambiguation)\" title=\"Kevin Bacon (disambiguation)\">Kevin Bacon (disambiguation)</a>,\n",
       " <a href=\"/wiki/San_Diego_Comic-Con\" title=\"San Diego Comic-Con\">San Diego Comic-Con</a>,\n",
       " <a href=\"/wiki/Philadelphia\" title=\"Philadelphia\">Philadelphia</a>,\n",
       " <a href=\"/wiki/Pennsylvania\" title=\"Pennsylvania\">Pennsylvania</a>,\n",
       " <a href=\"/wiki/Kyra_Sedgwick\" title=\"Kyra Sedgwick\">Kyra Sedgwick</a>,\n",
       " <a href=\"/wiki/Sosie_Bacon\" title=\"Sosie Bacon\">Sosie Bacon</a>,\n",
       " <a href=\"/wiki/Edmund_Bacon_(architect)\" title=\"Edmund Bacon (architect)\">Edmund Bacon</a>,\n",
       " <a href=\"/wiki/Michael_Bacon_(musician)\" title=\"Michael Bacon (musician)\">Michael Bacon</a>,\n",
       " <a href=\"/wiki/Footloose_(1984_film)\" title=\"Footloose (1984 film)\">Footloose</a>,\n",
       " <a href=\"/wiki/JFK_(film)\" title=\"JFK (film)\">JFK</a>]"
      ]
     },
     "execution_count": 14,
     "metadata": {},
     "output_type": "execute_result"
    }
   ],
   "source": [
    "links[:10]\n",
    "\n",
    "#And then we can follow the links we scraped\n",
    "#these hrefs are relative links"
   ]
  },
  {
   "cell_type": "markdown",
   "metadata": {},
   "source": [
    "### Connecting Pages\n",
    "\n",
    "Now, we want to follow these references, gather more urls, and repeat. For the sake of not running to exhaustion, I abbreviate the output using only a large length requirement for the link list.  To traverse all the pages we would simply change the \n",
    "\n",
    "```python\n",
    "while len(links) > 100:\n",
    "```\n",
    "\n",
    "to \n",
    "\n",
    "```python\n",
    "while len(links) > 0:\n",
    "```"
   ]
  },
  {
   "cell_type": "code",
   "execution_count": 15,
   "metadata": {},
   "outputs": [],
   "source": [
    "import random\n",
    "\n",
    "def get_wikilinks(url):\n",
    "    links = []\n",
    "    response = requests.get(url)\n",
    "    soup = BeautifulSoup(response.text, 'html.parser')\n",
    "    for link in soup.find('div', {'id': 'bodyContent'}).find_all('a', href = re.compile('^(/wiki/)((?!:).)*$')):\n",
    "        links.append(link)\n",
    "    return links"
   ]
  },
  {
   "cell_type": "code",
   "execution_count": 13,
   "metadata": {},
   "outputs": [
    {
     "name": "stdout",
     "output_type": "stream",
     "text": [
      "https://en.wikipedia.org/wiki/Stacy_Keach\n",
      "https://en.wikipedia.org/wiki/Old_Yeller-Belly\n",
      "https://en.wikipedia.org/wiki/The_Simpsons_(season_29)\n",
      "https://en.wikipedia.org/wiki/D%27oh!\n",
      "https://en.wikipedia.org/wiki/TV_Land\n",
      "https://en.wikipedia.org/wiki/Nicktoons_(United_States)\n",
      "https://en.wikipedia.org/wiki/Hallmark_Channel\n",
      "https://en.wikipedia.org/wiki/Super_Bowl\n",
      "https://en.wikipedia.org/wiki/New_Haven,_Connecticut\n",
      "https://en.wikipedia.org/wiki/List_of_Connecticut_locations_by_per_capita_income\n",
      "https://en.wikipedia.org/wiki/Vernon,_Connecticut\n",
      "https://en.wikipedia.org/wiki/Pacific_Islander_(U.S._Census)\n",
      "https://en.wikipedia.org/wiki/Hispanic_and_Latino_Americans\n",
      "https://en.wikipedia.org/wiki/Chicano\n",
      "https://en.wikipedia.org/wiki/List_of_U.S._communities_with_Hispanic_majority_populations_in_the_2010_census\n",
      "https://en.wikipedia.org/wiki/Kendale_Lakes,_Florida\n",
      "https://en.wikipedia.org/wiki/Native_Alaskan\n",
      "https://en.wikipedia.org/wiki/2010_United_States_Census\n",
      "https://en.wikipedia.org/wiki/Washington-Baltimore-Arlington,_DC-MD-VA-WV-PA_Combined_Statistical_Area\n",
      "https://en.wikipedia.org/wiki/List_of_mayors_of_Washington,_D.C.\n",
      "https://en.wikipedia.org/wiki/List_of_Governors_of_Missouri\n",
      "https://en.wikipedia.org/wiki/Lilburn_W._Boggs\n",
      "https://en.wikipedia.org/wiki/William_Henry_Ashley\n",
      "https://en.wikipedia.org/wiki/Peter_Kinder\n",
      "https://en.wikipedia.org/wiki/Missouri_gubernatorial_election,_2012\n",
      "https://en.wikipedia.org/wiki/United_States_presidential_election_in_Missouri,_1968\n",
      "https://en.wikipedia.org/wiki/Missouri_gubernatorial_election,_1896\n",
      "https://en.wikipedia.org/wiki/St._Louis,_Missouri\n",
      "https://en.wikipedia.org/wiki/Spain\n",
      "https://en.wikipedia.org/wiki/Roman_era\n",
      "https://en.wikipedia.org/wiki/Theophilos_(emperor)\n",
      "https://en.wikipedia.org/wiki/Thekla,_wife_of_Michael_II\n"
     ]
    }
   ],
   "source": [
    "links = get_wikilinks('https://en.wikipedia.org/wiki/Kevin_Bacon')\n",
    "while len(links) > 100:\n",
    "    newArticle = 'https://en.wikipedia.org' + links[random.randint(0, len(links)-1)].attrs['href']\n",
    "    print(newArticle)\n",
    "    links = get_wikilinks(newArticle)"
   ]
  },
  {
   "cell_type": "markdown",
   "metadata": {},
   "source": [
    "### Problem\n",
    "\n",
    "Write a function to retrieve a list of albums of any area you are interested in using Wikipedia's list of list of albums page: https://en.wikipedia.org/wiki/Lists_of_albums."
   ]
  },
  {
   "cell_type": "code",
   "execution_count": 16,
   "metadata": {},
   "outputs": [],
   "source": [
    "response_2 = requests.get('https://en.wikipedia.org/wiki/List_of_triple_albums')"
   ]
  },
  {
   "cell_type": "code",
   "execution_count": 18,
   "metadata": {},
   "outputs": [],
   "source": [
    "soup_2 = BeautifulSoup(response_2.text, 'html.parser')"
   ]
  },
  {
   "cell_type": "code",
   "execution_count": 19,
   "metadata": {},
   "outputs": [
    {
     "data": {
      "text/plain": [
       "<li><a href=\"/wiki/The_Allman_Brothers_Band\" title=\"The Allman Brothers Band\">The Allman Brothers Band</a> - <i>Jones Beach, Wantagh, NY 8/24/04</i></li>"
      ]
     },
     "execution_count": 19,
     "metadata": {},
     "output_type": "execute_result"
    }
   ],
   "source": [
    "soup.find('li')"
   ]
  },
  {
   "cell_type": "code",
   "execution_count": 27,
   "metadata": {
    "scrolled": true
   },
   "outputs": [
    {
     "data": {
      "text/plain": [
       "[<li><a href=\"/wiki/The_Allman_Brothers_Band\" title=\"The Allman Brothers Band\">The Allman Brothers Band</a> - <i>Jones Beach, Wantagh, NY 8/24/04</i></li>,\n",
       " <li>The Allman Brothers Band – <i>Chronicles: 3 Classic Albums</i> (2005) - compilation</li>,\n",
       " <li><a href=\"/wiki/Alan_Silva\" title=\"Alan Silva\">Alan Silva</a> and The Celestrial Communication Orchestra- <i><a class=\"mw-redirect\" href=\"/wiki/Seasons\" title=\"Seasons\">Seasons</a></i> - (3×LP, 2×CD)</li>,\n",
       " <li><a href=\"/wiki/Alquin\" title=\"Alquin\">Alquin</a> - <i>The Ultimate Collection</i> (2007) - 3×CD compilation</li>,\n",
       " <li><a href=\"/wiki/America_(band)\" title=\"America (band)\">America</a> - <i><a href=\"/wiki/Highway_(America_album)\" title=\"Highway (America album)\">Highway - 30 years of America</a></i> (2000)</li>,\n",
       " <li>America - <i>The Triple Album Collection</i> (2015)</li>,\n",
       " <li><a href=\"/wiki/Armand_(singer)\" title=\"Armand (singer)\">Armand</a> - <i>Singles A's &amp; B's</i> (2003)</li>,\n",
       " <li><a href=\"/wiki/The_Band\" title=\"The Band\">The Band</a> – <i><a href=\"/wiki/The_Last_Waltz_(1978_album)\" title=\"The Last Waltz (1978 album)\">The Last Waltz</a></i></li>,\n",
       " <li><a href=\"/wiki/Syd_Barrett\" title=\"Syd Barrett\">Syd Barrett</a> – <i><a href=\"/wiki/Crazy_Diamond\" title=\"Crazy Diamond\">Crazy Diamond</a></i> – compilation</li>,\n",
       " <li><a href=\"/wiki/The_Beatles\" title=\"The Beatles\">The Beatles</a> – <i><a href=\"/wiki/Anthology_1\" title=\"Anthology 1\">Anthology 1</a></i> 3xLP, 2xCD</li>]"
      ]
     },
     "execution_count": 27,
     "metadata": {},
     "output_type": "execute_result"
    }
   ],
   "source": [
    "soup.find_all('li')[:10]"
   ]
  },
  {
   "cell_type": "code",
   "execution_count": 28,
   "metadata": {},
   "outputs": [
    {
     "data": {
      "text/plain": [
       "'The Allman Brothers Band - Jones Beach, Wantagh, NY 8/24/04'"
      ]
     },
     "execution_count": 28,
     "metadata": {},
     "output_type": "execute_result"
    }
   ],
   "source": [
    "soup.find('li').text"
   ]
  },
  {
   "cell_type": "code",
   "execution_count": 24,
   "metadata": {},
   "outputs": [
    {
     "name": "stdout",
     "output_type": "stream",
     "text": [
      "{}\n",
      "{}\n",
      "{}\n"
     ]
    }
   ],
   "source": [
    "for link in soup.find_all('li')[:3]:\n",
    "    print(link.attrs)"
   ]
  },
  {
   "cell_type": "code",
   "execution_count": 25,
   "metadata": {},
   "outputs": [
    {
     "name": "stdout",
     "output_type": "stream",
     "text": [
      "{'id': 'top'}\n",
      "{'class': ['mw-jump-link'], 'href': '#mw-head'}\n",
      "{'class': ['mw-jump-link'], 'href': '#p-search'}\n",
      "{'href': '/wiki/Triple_album', 'class': ['mw-redirect'], 'title': 'Triple album'}\n",
      "{'href': '/wiki/Gramophone_record', 'class': ['mw-redirect'], 'title': 'Gramophone record'}\n",
      "{'href': '/wiki/Compact_disc', 'title': 'Compact disc'}\n",
      "{'href': '/wiki/Wikipedia:WikiProject_Lists#Incomplete_lists', 'title': 'Wikipedia:WikiProject Lists'}\n",
      "{'class': ['external', 'text'], 'href': '//en.wikipedia.org/w/index.php?title=List_of_triple_albums&action=edit'}\n",
      "{'href': '/wiki/Wikipedia:Identifying_reliable_sources', 'title': 'Wikipedia:Identifying reliable sources'}\n",
      "{'href': '#top'}\n"
     ]
    }
   ],
   "source": [
    "for link in soup.find_all('a')[:10]:\n",
    "    print(link.attrs)"
   ]
  },
  {
   "cell_type": "code",
   "execution_count": 29,
   "metadata": {},
   "outputs": [
    {
     "name": "stdout",
     "output_type": "stream",
     "text": [
      "The Allman Brothers Band - Jones Beach, Wantagh, NY 8/24/04\n",
      "The Allman Brothers Band – Chronicles: 3 Classic Albums (2005) - compilation\n",
      "Alan Silva and The Celestrial Communication Orchestra- Seasons - (3×LP, 2×CD)\n",
      "Alquin - The Ultimate Collection (2007) - 3×CD compilation\n",
      "America - Highway - 30 years of America (2000)\n",
      "America - The Triple Album Collection (2015)\n",
      "Armand - Singles A's & B's (2003)\n",
      "The Band – The Last Waltz\n",
      "Syd Barrett – Crazy Diamond – compilation\n",
      "The Beatles – Anthology 1 3xLP, 2xCD\n",
      "The Beatles – Anthology 2 3xLP, 2xCD\n",
      "The Beatles – Anthology 3 3xLP, 2xCD\n",
      "The Beatles – Live at the BBC Volume 1 3xLP, 2xCD\n",
      "The Beatles – On Air – Live at the BBC Volume 2 3xLP, 2xCD\n",
      "Carla Bley – Escalator over the Hill\n",
      "Blue Floyd – Keswick Thr., Glenside, Pa, 1-21-2000 (2010) - live\n",
      "Bob Dylan - Triplicate (2017)\n",
      "Boards of Canada – Geogaddi\n",
      "Bonzo Dog Doo-Dah Band – Cornology\n",
      "Boris with Merzbow – Rock Dream 3xLP, 2xCD\n",
      "Billy Bragg – Must I Paint You A Picture? The Essential Billy Bragg (2003) – compilation\n",
      "Brainbox – Mythology (2013)\n",
      "John Cage – The 25-Year Retrospective Concert of the Music of John Cage (1994)\n",
      "Chamillionaire - Mixtape Messiah\n",
      "The Clash - Clash on Broadway\n",
      "The Clash - Sandinista!\n",
      "Coil - ANS\n",
      "Creed - With Arms Wide Open: A Retrospective\n",
      "Miles Davis, Jack DeJohnette, Dave Holland, Chick Corea & Wayne Shorter - Live in Europe 1969: The Bootleg Series, Vol.2\n",
      "Miles Davis Quintet - Live in Europe 1967: The Bootleg Series, Vol.1\n",
      "Sasha & John Digweed - Renaissance: The Mix Collection\n",
      "Dream Theater - Live Scenes from New York\n",
      "Dream Theater - Live at Budokan\n",
      "Dream Theater - Score\n",
      "Deep Purple - Live in Japan\n",
      "Deep Purple - The Platinum Collection\n",
      "Nick Drake - Fruit Tree : Five Leaves Left; Bryter Layter; Pink Moon; A Skin Too Few + DVD (2007) - 3×CD reissue\n",
      "The Early November - The Mother, the Mechanic, and the Path\n",
      "Electric Light Orchestra – Flashback (2000) - 3×CD – compilation\n",
      "Emerson, Lake & Palmer - Welcome Back My Friends to the Show That Never Ends\n",
      "Brian Eno - Instrumental\n",
      "Brian Eno - Vocal\n",
      "Faust - Faust... in autumn 2005 [+ bonus DVD] (2007)\n",
      "Léo Ferré - Ludwig - L'Imaginaire - Le Bateau ivre\n",
      "Léo Ferré – Léo Ferré au Théâtre des Champs-Elysées (1984) – 3×LP (live)\n",
      "Flairck - 3 Originals (1998)\n",
      "Masaharu Fukuyama - The Best Bang!!\n",
      "Marvin Gaye - Anthology\n",
      "Vince Gill – These Days (2006) - 4×CD\n",
      "Godley & Creme – Consequences (1977) – 3×LP (debut album)\n",
      "Golden Earring - Fully Naked - live compilation\n",
      "Golden Earring - Collected - compilation\n",
      "Grateful Dead - Dick's Picks Volume 4\n",
      "Grateful Dead - Dick's Picks Volume 5\n",
      "Grateful Dead - Dick's Picks Volume 6\n",
      "Grateful Dead - Dick's Picks Volume 7\n",
      "Grateful Dead - Dick's Picks Volume 8\n",
      "Grateful Dead - Dick's Picks Volume 9\n",
      "Grateful Dead - Dick's Picks Volume 10\n",
      "Grateful Dead - Dick's Picks Volume 11\n",
      "Grateful Dead - Dick's Picks Volume 12\n",
      "Grateful Dead - Dick's Picks Volume 13\n",
      "Grateful Dead - Dick's Picks Volume 14\n",
      "Grateful Dead - Dick's Picks Volume 15\n",
      "Grateful Dead - Dick's Picks Volume 16\n",
      "Grateful Dead - Dick's Picks Volume 17\n",
      "Grateful Dead - Dick's Picks Volume 18\n",
      "Grateful Dead - Dick's Picks Volume 19\n",
      "Grateful Dead - Dick's Picks Volume 21\n",
      "Grateful Dead - Dick's Picks Volume 23\n",
      "Grateful Dead - Dick's Picks Volume 27\n",
      "Grateful Dead - Dick's Picks Volume 34\n",
      "Grateful Dead - Dozin' at the Knick\n",
      "Grateful Dead - Europe '72\n",
      "Grateful Dead - Rockin' the Rhein with the Grateful Dead\n",
      "The Groundhogs - Thank Christ for the Groundhogs: the Liberty years 1968-1972\n",
      "The Groundhogs - The United Artists years: 1972-1976\n",
      "Half Japanese - 1/2 Gentlemen/Not Beasts\n",
      "Masashi Hamauzu - SaGa Frontier 2 Original Soundtrack\n",
      "George Harrison - All Things Must Pass\n",
      "Kenji Ito - SaGa Frontier Original Sound Track\n",
      "InMe - Trilogy\n",
      "Iron Maiden - The Book of Souls - 3×LP, 2×CD\n",
      "Michael Jackson - HIStory: Past, Present and Future, Book I (1995) - compilation and studio album; 3 x LP, 2 x CD\n",
      "Jackson 5 - Anthology\n",
      "Keith Jarrett - Setting Standards: New York Sessions (2008) - compilation\n",
      "Joanna Newsom \"Have One On Me\" (2010)\n",
      "Hiroki Kikuta - Seiken Densetsu 3 Original Sound Version\n",
      "King Crimson - Heavy Construkction (2001)\n",
      "King Crimson - Radical Action to Unseat the Hold of Monkey Mind (2016)\n",
      "Kluster - Kluster 1970-1971 (2008) - compilation reissue\n",
      "The Knife - Shaking the Habitual (2012) - 3×LP, 2×CD\n",
      "Led Zeppelin - How the West Was Won\n",
      "Livin' Blues - The Complete Collection: the Philips years 1967-1973\n",
      "Lucio Battisti - Le avventure di Lucio Battisti e Mogol\n",
      "MC5 - Are You Ready To Testify?\n",
      "Madness – The Liberty of Norton Folgate (2009) – 3×CD, 1×LP (special edition box set)\n",
      "Paul McCartney - Tripping the Live Fantastic\n",
      "Reba McEntire – 50 Greatest Hits\n",
      "Magma - Trilogy: Magma live; Üdü Wüdü; Attahk (2012)\n",
      "The Magnetic Fields - 69 Love Songs\n",
      "MF Grimm - American Hunger\n",
      "Yasunori Mitsuda - Chrono Cross Original Soundtrack\n",
      "Yasunori Mitsuda, et al. - Chrono Trigger Original Sound Version\n",
      "Metallica-Garage inc. 3 discs Lp version\n",
      "Elliott Murphy - Strings of the Storm\n",
      "Joanna Newsom - Have One On Me\n",
      "Niagara - Niagara - 3×CD re-issue\n",
      "Stevie Nicks - Enchanted\n",
      "Nirvana - Chemistry\n",
      "Nirvana - With the Lights Out\n",
      "The Nitty Gritty Dirt Band - Will the circle be unbroken?\n",
      "Mike Oldfield - Boxed - 4×LP, 3×CD - compilation\n",
      "Oneida - Rated O\n",
      "Pearl Jam - 11/6/00 - Seattle, Washington\n",
      "Pearl Jam - 5/3/03 - State College, Pennsylvania\n",
      "Pearl Jam - 7/11/03 - Mansfield, Massachusetts\n",
      "Pearl Jam - 7/8/03 - New York, New York\n",
      "Joel Plaskett - Three\n",
      "Premiata Forneria Marconi - Cook\n",
      "Prince - Crystal Ball\n",
      "Prince - Emancipation\n",
      "Prince - The Hits/The B-Sides\n",
      "Prince - LOtUSFLOW3R\n",
      "Prurient - Rainbow Mirror\n",
      "Public Image Ltd. - Metal Box\n",
      "Rae Sremmurd - SR3MM\n",
      "Rare Earth - Fill Your Head: The Studio Albums 1969-1974\n",
      "The Rolling Stones - Singles Collection: The London Years\n",
      "Steve Roach - Immersion: Three\n",
      "Rush - Archives (1978) – 3×LP\n",
      "Rush – Different Stages (1998)\n",
      "Rush – Rush in Rio (2003)\n",
      "Leon Russell - Leon Live\n",
      "Santana - Lotus\n",
      "The Seeds - Flower Punk\n",
      "Frank Sinatra - Trilogy: Past Present Future\n",
      "The Smashing Pumpkins – Mellon Collie and the Infinite Sadness (1995) – 3×LP\n",
      "Ringo Starr - The Anthology... So Far\n",
      "Simon & Garfunkel - Collected Works\n",
      "Simon & Garfunkel - Old Friends\n",
      "Bob Smith - Stop For A Visit Down Electric Avenue (2000) - 3×CD reissue compilation\n",
      "Soft Machine – Live at Henie Onstad Art Centre 1971 (+ bonus cd)\n",
      "Spinvis - 2002 - 2007 (2007)\n",
      "Swallow The Sun - Songs From the North (2015)\n",
      "Swans - The Seer (2012)\n",
      "Swans - To Be Kind (2014)\n",
      "Swans - The Glowing Man (2016)\n",
      "Tina Turner - The Collected Recordings – Sixties to Nineties\n",
      "Tina Turner - The Platinum Collection\n",
      "Transatlantic - Whirld Tour 2010: Live in London (2010)\n",
      "Transatlantic - More Never Is Enough: Live In Manchester & Tilburg 2010 (2011)\n",
      "Nobuo Uematsu - Final Fantasy VI Original Soundtrack\n",
      "Underworld - The anthology 1992-2012 [+ bonus cd] (2012) - 3×CD compilation\n",
      "Various artists - Woodstock: Music from the Original Soundtrack and More (1970) – 3×LP, 2×CD\n",
      "Various artists - Concert for Bangladesh (1971) - 3×LP, 2×CD\n",
      "Various artists - The First Great Rock Festivals Of The Seventies - Isle of Wight / Atlanta Pop Festival (1971) – 3×LP\n",
      "Various artists - Glastonbury Fayre (1972) - 3×LP\n",
      "Various artists - No Nukes (1980) - 3×LP\n",
      "Various artists - OHM : The early gurus of electronic music 1948 - 1980 (2000) - 3×CD\n",
      "Various artists - Ars long vita brevis: progressive rock 1967-1974 (2005)\n",
      "Various artists - The Blue Horizon story; vol.1 : 1965-1970 (2006) - 3×CD\n",
      "Various artists - Greasy Truckers Party (2007) - 3×CD reissue\n",
      "Various artists - Stamping Ground: Kralinger Music Festival 26-27–28 June 1970 Rotterdam Holland (2010) - 3×LP\n",
      "Various artists - The Music of Grand Theft Auto V (2014)  - 6xLP, 3xCD\n",
      "Various artists - Westworld (Soundtrack) - 3×LP\n",
      "The Violet Burning - The Story Of Our Lives\n",
      "Tom Waits - Orphans: Brawlers, Bawlers & Bastards\n",
      "Kamasi Washington - The Epic (album)\n",
      "Wings - Wings over America\n",
      "Stevie Wonder - Looking Back - Anthology\n",
      "World Wrestling Entertainment - WWE Anthology\n",
      "The Weeknd - Trilogy\n",
      "Yes - Yessongs\n",
      "Neil Young - Decade\n",
      "Neil Young & Crazy Horse - ARC - Weld\n",
      "Frank Zappa - Joe's Garage\n",
      "Frank Zappa - Shut Up 'n Play Yer Guitar\n",
      "Frank Zappa - Läther\n",
      "Frank Zappa - Thing-Fish\n",
      "Zoviet France - Popular Soviet Songs and Youth Music (1985) - 3×CD\n",
      "Hits 60\n",
      "Now That's What I Call Music! Years\n",
      "Now That's What I Call Music! Decades - The Deluxe Edition\n",
      "Now That's What I Call the 80's\n",
      "List of double albums\n",
      "Lists of albums\n",
      "Lists of albums\n",
      "Dynamic lists\n",
      "Not logged in\n",
      "Talk\n",
      "Contributions\n",
      "Create account\n",
      "Log in\n",
      "Article\n",
      "Talk\n",
      "Read\n",
      "Edit\n",
      "View history\n",
      "Main page\n",
      "Contents\n",
      "Featured content\n",
      "Current events\n",
      "Random article\n",
      "Donate to Wikipedia\n",
      "Wikipedia store\n",
      "Help\n",
      "About Wikipedia\n",
      "Community portal\n",
      "Recent changes\n",
      "Contact page\n",
      "What links here\n",
      "Related changes\n",
      "Upload file\n",
      "Special pages\n",
      "Permanent link\n",
      "Page information\n",
      "Wikidata item\n",
      "Cite this page\n",
      "Create a book\n",
      "Download as PDF\n",
      "Printable version\n",
      " This page was last edited on 2 July 2018, at 22:03 (UTC).\n",
      "Text is available under the Creative Commons Attribution-ShareAlike License;\n",
      "additional terms may apply.  By using this site, you agree to the Terms of Use and Privacy Policy. Wikipedia® is a registered trademark of the Wikimedia Foundation, Inc., a non-profit organization.\n",
      "Privacy policy\n",
      "About Wikipedia\n",
      "Disclaimers\n",
      "Contact Wikipedia\n",
      "Developers\n",
      "Cookie statement\n",
      "Mobile view\n",
      "\n",
      " \n",
      "\n",
      " \n"
     ]
    }
   ],
   "source": [
    "for result in soup.find_all('li'):\n",
    "    print(result.text)"
   ]
  },
  {
   "cell_type": "code",
   "execution_count": null,
   "metadata": {},
   "outputs": [],
   "source": []
  },
  {
   "cell_type": "code",
   "execution_count": null,
   "metadata": {},
   "outputs": [],
   "source": []
  }
 ],
 "metadata": {
  "kernelspec": {
   "display_name": "Python 3",
   "language": "python",
   "name": "python3"
  },
  "language_info": {
   "codemirror_mode": {
    "name": "ipython",
    "version": 3
   },
   "file_extension": ".py",
   "mimetype": "text/x-python",
   "name": "python",
   "nbconvert_exporter": "python",
   "pygments_lexer": "ipython3",
   "version": "3.6.5"
  }
 },
 "nbformat": 4,
 "nbformat_minor": 2
}
